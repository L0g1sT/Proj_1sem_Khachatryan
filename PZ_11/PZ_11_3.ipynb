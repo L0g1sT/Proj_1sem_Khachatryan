{
  "nbformat": 4,
  "nbformat_minor": 0,
  "metadata": {
    "colab": {
      "name": "PZ_11_3.ipynb",
      "provenance": [],
      "collapsed_sections": []
    },
    "kernelspec": {
      "name": "python3",
      "display_name": "Python 3"
    },
    "language_info": {
      "name": "python"
    }
  },
  "cells": [
    {
      "cell_type": "markdown",
      "source": [
        "Составить функцию, которая напечатает сорок любых символов"
      ],
      "metadata": {
        "id": "F6IyGe3S7s-a"
      }
    },
    {
      "cell_type": "code",
      "execution_count": null,
      "metadata": {
        "id": "-tgvVv3J7qbG"
      },
      "outputs": [],
      "source": [
        "def si(a, b):   # Создание функции\n",
        "    while a >= 0:\n",
        "        print(b)\n",
        "        a -= 1\n",
        "\n",
        "\n",
        "t = 40\n",
        "s = input(\"Введите символ который хотите напечатать: \")\n",
        "print(si(t, s))"
      ]
    }
  ]
}