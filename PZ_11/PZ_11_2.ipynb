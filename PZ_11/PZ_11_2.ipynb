{
  "nbformat": 4,
  "nbformat_minor": 0,
  "metadata": {
    "colab": {
      "name": "PZ_11_2.ipynb",
      "provenance": [],
      "collapsed_sections": []
    },
    "kernelspec": {
      "name": "python3",
      "display_name": "Python 3"
    },
    "language_info": {
      "name": "python"
    }
  },
  "cells": [
    {
      "cell_type": "markdown",
      "source": [
        "Дано целое число N (>0)."
      ],
      "metadata": {
        "id": "1VVsBzJa7Vpq"
      }
    },
    {
      "cell_type": "markdown",
      "source": [
        "Найти произведение 1.1 • 1.2 • 1.3 •... (N сомножителей)."
      ],
      "metadata": {
        "id": "0s07VPGO7WoS"
      }
    },
    {
      "cell_type": "code",
      "execution_count": 1,
      "metadata": {
        "colab": {
          "base_uri": "https://localhost:8080/"
        },
        "id": "PNdSDNE06-n_",
        "outputId": "45aca3de-34b7-438a-d684-4ccf398615c3"
      },
      "outputs": [
        {
          "output_type": "stream",
          "name": "stdout",
          "text": [
            "Введите число сомножителей: 24\n",
            "1.32\n",
            "2.88\n",
            "4.7\n",
            "6.8\n",
            "9.2\n",
            "11.92\n",
            "14.98\n",
            "18.4\n",
            "22.2\n",
            "26.4\n",
            "31.02\n",
            "36.08\n",
            "41.6\n",
            "47.6\n",
            "54.1\n",
            "61.12\n",
            "68.68\n",
            "76.8\n",
            "85.5\n",
            "94.8\n",
            "104.72\n",
            "115.28\n",
            "126.5\n"
          ]
        }
      ],
      "source": [
        "n = input(\"Введите число сомножителей: \")\n",
        "a = float(1.0)\n",
        "s = float(0)\n",
        "b = float(1.1)\n",
        "\n",
        "while type(n) != int:  # Обработка исключений\n",
        "    try:\n",
        "        n = int(n)\n",
        "    except ValueError:\n",
        "        print(\"Пожалуйста используйте целые числа\")\n",
        "        n = input(\"Введите число сомножителей: \")\n",
        "\n",
        "n -= 1\n",
        "while n > 0:\n",
        "    a += 0.1\n",
        "    b += 0.1\n",
        "    s += a*b\n",
        "    n -= 1\n",
        "    print(round(s, 2))"
      ]
    }
  ]
}