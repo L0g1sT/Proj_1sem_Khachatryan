{
  "nbformat": 4,
  "nbformat_minor": 0,
  "metadata": {
    "colab": {
      "name": "PZ_11_1.ipynb",
      "provenance": [],
      "collapsed_sections": [],
      "authorship_tag": "ABX9TyPD5ftOhjNX8T2Ep1X6v/vB",
      "include_colab_link": true
    },
    "kernelspec": {
      "name": "python3",
      "display_name": "Python 3"
    },
    "language_info": {
      "name": "python"
    }
  },
  "cells": [
    {
      "cell_type": "markdown",
      "metadata": {
        "id": "view-in-github",
        "colab_type": "text"
      },
      "source": [
        "<a href=\"https://colab.research.google.com/github/L0g1sT/Proj_1sem_Khachatryan/blob/master/PZ_11/PZ_11_1.ipynb\" target=\"_parent\"><img src=\"https://colab.research.google.com/assets/colab-badge.svg\" alt=\"Open In Colab\"/></a>"
      ]
    },
    {
      "cell_type": "markdown",
      "source": [
        "Даны числа х, у, x1, y1, х2, у2. Проверить истинность высказывания:"
      ],
      "metadata": {
        "id": "DKVmQwZR5z6U"
      }
    },
    {
      "cell_type": "markdown",
      "source": [
        "«Точка с координатами (х, у) лежит внутри прямоугольника,"
      ],
      "metadata": {
        "id": "voCSbJM152Vk"
      }
    },
    {
      "cell_type": "markdown",
      "source": [
        "левая верхняя вершина которого имеет координаты (х1, у1),"
      ],
      "metadata": {
        "id": "NC4fkD8852jz"
      }
    },
    {
      "cell_type": "markdown",
      "source": [
        "правая нижняя — (х2, у2), а стороны параллельны координатным осям»."
      ],
      "metadata": {
        "id": "QLElJ9t752vb"
      }
    },
    {
      "cell_type": "code",
      "execution_count": 1,
      "metadata": {
        "colab": {
          "base_uri": "https://localhost:8080/"
        },
        "id": "um3IL9By5aQL",
        "outputId": "ccf4c0d1-73d2-4fb2-b3f7-8a4381bf92a6"
      },
      "outputs": [
        {
          "output_type": "stream",
          "name": "stdout",
          "text": [
            "Введите число x: 23\n",
            "Введите число y: 23\n",
            "Введите число x1: 12\n",
            "Введите число y1: 12\n",
            "Введите число x2: 52\n",
            "Введите число y2: 52\n",
            "Высказываение ложное!\n"
          ]
        }
      ],
      "source": [
        "x = input('Введите число x: ')\n",
        "while type(x) != float:    # Обработка исключений\n",
        "    try:\n",
        "        x = float(x)\n",
        "    except ValueError:\n",
        "        print(\"Введено не число!\")\n",
        "        x = input(\"Введите число x:  \")\n",
        "\n",
        "y = input('Введите число y: ')\n",
        "while type(y) != float:    # Обработка исключений\n",
        "    try:\n",
        "        y = float(y)\n",
        "    except ValueError:\n",
        "        print(\"Введено не число!\")\n",
        "        y = input(\"Введите число y:  \")\n",
        "\n",
        "x1 = input('Введите число x1: ')\n",
        "while type(x1) != float:    # Обработка исключений\n",
        "    try:\n",
        "        x1 = float(x1)\n",
        "    except ValueError:\n",
        "        print(\"Введено не число!\")\n",
        "        x1 = input(\"Введите число x1:  \")\n",
        "\n",
        "y1 = input('Введите число y1: ')\n",
        "while type(y1) != float:    # Обработка исключений\n",
        "    try:\n",
        "        y1 = float(y1)\n",
        "    except ValueError:\n",
        "        print(\"Введено не число!\")\n",
        "        y1 = input(\"Введите число y1:  \")\n",
        "\n",
        "x2 = input('Введите число x2: ')\n",
        "while type(x2) != float:    # Обработка исключений\n",
        "    try:\n",
        "        x2 = float(x2)\n",
        "    except ValueError:\n",
        "        print(\"Введено не число!\")\n",
        "        x2 = input(\"Введите число x2:  \")\n",
        "\n",
        "y2 = input('Введите число y2: ')\n",
        "while type(y2) != float:    # Обработка исключений\n",
        "    try:\n",
        "        y2 = float(y2)\n",
        "    except ValueError:\n",
        "        print(\"Введено не число!\")\n",
        "        y2 = input(\"Введите число y2: \")\n",
        "\n",
        "if (x2 > x > x1) and (y2 < y < y1) and (x1 < x2) and (y1 > y2):\n",
        "    print(\"Высказывание истинное!\")\n",
        "else:\n",
        "    print(\"Высказываение ложное!\")"
      ]
    },
    {
      "cell_type": "markdown",
      "source": [
        "Дано целое число N (>0).\n",
        "\n",
        "Найти произведение 1.1 • 1.2 • 1.3 •... (N сомножителей)."
      ],
      "metadata": {
        "id": "KONBcRvZlKRf"
      }
    },
    {
      "cell_type": "code",
      "source": [
        "n = input(\"Введите число сомножителей: \")\n",
        "a = float(1.0)\n",
        "s = float(0)\n",
        "b = float(1.1)\n",
        "\n",
        "while type(n) != int:  # Обработка исключений\n",
        "    try:\n",
        "        n = int(n)\n",
        "    except ValueError:\n",
        "        print(\"Пожалуйста используйте целые числа\")\n",
        "        n = input(\"Введите число сомножителей: \")\n",
        "\n",
        "n -= 1\n",
        "while n > 0:\n",
        "    a += 0.1\n",
        "    b += 0.1\n",
        "    s += a*b\n",
        "    n -= 1\n",
        "    print(round(s, 2))"
      ],
      "metadata": {
        "colab": {
          "base_uri": "https://localhost:8080/"
        },
        "id": "Py1amY-rlW6M",
        "outputId": "1958c72f-4363-4a16-f035-08e43698f697"
      },
      "execution_count": 2,
      "outputs": [
        {
          "output_type": "stream",
          "name": "stdout",
          "text": [
            "Введите число сомножителей: 24\n",
            "1.32\n",
            "2.88\n",
            "4.7\n",
            "6.8\n",
            "9.2\n",
            "11.92\n",
            "14.98\n",
            "18.4\n",
            "22.2\n",
            "26.4\n",
            "31.02\n",
            "36.08\n",
            "41.6\n",
            "47.6\n",
            "54.1\n",
            "61.12\n",
            "68.68\n",
            "76.8\n",
            "85.5\n",
            "94.8\n",
            "104.72\n",
            "115.28\n",
            "126.5\n"
          ]
        }
      ]
    },
    {
      "cell_type": "markdown",
      "source": [
        "Составить функцию, которая напечатает сорок любых символов"
      ],
      "metadata": {
        "id": "oPWNbhyvlhXg"
      }
    },
    {
      "cell_type": "code",
      "source": [
        "def si(a, b):   # Создание функции\n",
        "    while a >= 0:\n",
        "        print(b)\n",
        "        a -= 1\n",
        "\n",
        "\n",
        "t = 40\n",
        "s = input(\"Введите символ который хотите напечатать: \")\n",
        "print(si(t, s))"
      ],
      "metadata": {
        "colab": {
          "base_uri": "https://localhost:8080/"
        },
        "id": "V5mHT89Qlhie",
        "outputId": "1c65045c-cc71-4917-c22d-e21e6f46fb0a"
      },
      "execution_count": 3,
      "outputs": [
        {
          "output_type": "stream",
          "name": "stdout",
          "text": [
            "Введите символ который хотите напечатать: s\n",
            "s\n",
            "s\n",
            "s\n",
            "s\n",
            "s\n",
            "s\n",
            "s\n",
            "s\n",
            "s\n",
            "s\n",
            "s\n",
            "s\n",
            "s\n",
            "s\n",
            "s\n",
            "s\n",
            "s\n",
            "s\n",
            "s\n",
            "s\n",
            "s\n",
            "s\n",
            "s\n",
            "s\n",
            "s\n",
            "s\n",
            "s\n",
            "s\n",
            "s\n",
            "s\n",
            "s\n",
            "s\n",
            "s\n",
            "s\n",
            "s\n",
            "s\n",
            "s\n",
            "s\n",
            "s\n",
            "s\n",
            "s\n",
            "None\n"
          ]
        }
      ]
    }
  ]
}