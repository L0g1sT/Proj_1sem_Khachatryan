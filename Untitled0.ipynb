{
  "nbformat": 4,
  "nbformat_minor": 0,
  "metadata": {
    "colab": {
      "name": "Untitled0.ipynb",
      "provenance": [],
      "authorship_tag": "ABX9TyOx9dA8lJ0FD4ZeXBJab9OG",
      "include_colab_link": true
    },
    "kernelspec": {
      "name": "python3",
      "display_name": "Python 3"
    },
    "language_info": {
      "name": "python"
    }
  },
  "cells": [
    {
      "cell_type": "markdown",
      "metadata": {
        "id": "view-in-github",
        "colab_type": "text"
      },
      "source": [
        "<a href=\"https://colab.research.google.com/github/L0g1sT/Proj_1sem_Khachatryan/blob/master/Untitled0.ipynb\" target=\"_parent\"><img src=\"https://colab.research.google.com/assets/colab-badge.svg\" alt=\"Open In Colab\"/></a>"
      ]
    },
    {
      "cell_type": "markdown",
      "source": [
        "Даны числа х, у, x1, y1, х2, у2. Проверить истинность высказывания:"
      ],
      "metadata": {
        "id": "DKVmQwZR5z6U"
      }
    },
    {
      "cell_type": "markdown",
      "source": [
        "«Точка с координатами (х, у) лежит внутри прямоугольника,"
      ],
      "metadata": {
        "id": "voCSbJM152Vk"
      }
    },
    {
      "cell_type": "markdown",
      "source": [
        "левая верхняя вершина которого имеет координаты (х1, у1),"
      ],
      "metadata": {
        "id": "NC4fkD8852jz"
      }
    },
    {
      "cell_type": "markdown",
      "source": [
        "правая нижняя — (х2, у2), а стороны параллельны координатным осям»."
      ],
      "metadata": {
        "id": "QLElJ9t752vb"
      }
    },
    {
      "cell_type": "code",
      "execution_count": 1,
      "metadata": {
        "colab": {
          "base_uri": "https://localhost:8080/"
        },
        "id": "um3IL9By5aQL",
        "outputId": "37b4c819-1fbe-4e46-b0bc-68430b0da4c7"
      },
      "outputs": [
        {
          "output_type": "stream",
          "name": "stdout",
          "text": [
            "Введите число x: 12\n",
            "Введите число y: 14\n",
            "Введите число x1: 15\n",
            "Введите число y1: 52\n",
            "Введите число x2: 23\n",
            "Введите число y2: 52\n",
            "Высказываение ложное!\n"
          ]
        }
      ],
      "source": [
        "x = input('Введите число x: ')\n",
        "while type(x) != float:    # Обработка исключений\n",
        "    try:\n",
        "        x = float(x)\n",
        "    except ValueError:\n",
        "        print(\"Введено не число!\")\n",
        "        x = input(\"Введите число x:  \")\n",
        "\n",
        "y = input('Введите число y: ')\n",
        "while type(y) != float:    # Обработка исключений\n",
        "    try:\n",
        "        y = float(y)\n",
        "    except ValueError:\n",
        "        print(\"Введено не число!\")\n",
        "        y = input(\"Введите число y:  \")\n",
        "\n",
        "x1 = input('Введите число x1: ')\n",
        "while type(x1) != float:    # Обработка исключений\n",
        "    try:\n",
        "        x1 = float(x1)\n",
        "    except ValueError:\n",
        "        print(\"Введено не число!\")\n",
        "        x1 = input(\"Введите число x1:  \")\n",
        "\n",
        "y1 = input('Введите число y1: ')\n",
        "while type(y1) != float:    # Обработка исключений\n",
        "    try:\n",
        "        y1 = float(y1)\n",
        "    except ValueError:\n",
        "        print(\"Введено не число!\")\n",
        "        y1 = input(\"Введите число y1:  \")\n",
        "\n",
        "x2 = input('Введите число x2: ')\n",
        "while type(x2) != float:    # Обработка исключений\n",
        "    try:\n",
        "        x2 = float(x2)\n",
        "    except ValueError:\n",
        "        print(\"Введено не число!\")\n",
        "        x2 = input(\"Введите число x2:  \")\n",
        "\n",
        "y2 = input('Введите число y2: ')\n",
        "while type(y2) != float:    # Обработка исключений\n",
        "    try:\n",
        "        y2 = float(y2)\n",
        "    except ValueError:\n",
        "        print(\"Введено не число!\")\n",
        "        y2 = input(\"Введите число y2: \")\n",
        "\n",
        "if (x2 > x > x1) and (y2 < y < y1) and (x1 < x2) and (y1 > y2):\n",
        "    print(\"Высказывание истинное!\")\n",
        "else:\n",
        "    print(\"Высказываение ложное!\")"
      ]
    }
  ]
}